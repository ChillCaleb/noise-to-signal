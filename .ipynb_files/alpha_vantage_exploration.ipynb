{
 "cells": [
  {
   "cell_type": "code",
   "execution_count": 6,
   "id": "341eff17",
   "metadata": {},
   "outputs": [
    {
     "name": "stdout",
     "output_type": "stream",
     "text": [
      "            1. open  2. high  3. low  4. close   5. volume\n",
      "date                                                      \n",
      "2025-10-24   522.79  525.345  520.71    523.61  15532360.0\n",
      "2025-10-23   522.46  523.950  518.61    520.56  14023532.0\n",
      "2025-10-22   521.15  525.230  517.71    520.54  18962694.0\n",
      "2025-10-21   517.50  518.690  513.04    517.66  15586204.0\n",
      "2025-10-20   514.61  518.700  513.43    516.79  14665620.0\n",
      "{'1. Information': 'Daily Prices (open, high, low, close) and Volumes', '2. Symbol': 'MSFT', '3. Last Refreshed': '2025-10-24', '4. Output Size': 'Compact', '5. Time Zone': 'US/Eastern'}\n"
     ]
    }
   ],
   "source": [
    "from alpha_vantage.timeseries import TimeSeries\n",
    "from dotenv import load_dotenv\n",
    "import os\n",
    "\n",
    "load_dotenv()\n",
    "AV_KEY = os.getenv(\"ALPHA_VANTAGE_KEY\")\n",
    "\n",
    "ts = TimeSeries(key=AV_KEY, output_format=\"pandas\")\n",
    "\n",
    "data, meta_data = ts.get_daily(symbol=\"MSFT\", outputsize=\"compact\")\n",
    "\n",
    "print(data.head())\n",
    "print(meta_data)\n",
    "\n"
   ]
  }
 ],
 "metadata": {
  "kernelspec": {
   "display_name": "venv",
   "language": "python",
   "name": "python3"
  },
  "language_info": {
   "codemirror_mode": {
    "name": "ipython",
    "version": 3
   },
   "file_extension": ".py",
   "mimetype": "text/x-python",
   "name": "python",
   "nbconvert_exporter": "python",
   "pygments_lexer": "ipython3",
   "version": "3.9.6"
  }
 },
 "nbformat": 4,
 "nbformat_minor": 5
}
