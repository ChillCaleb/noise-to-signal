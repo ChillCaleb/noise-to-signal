{
 "cells": [
  {
   "cell_type": "code",
   "execution_count": 1,
   "id": "7a2bb4c9",
   "metadata": {},
   "outputs": [
    {
     "data": {
      "text/html": [
       "<div>\n",
       "<style scoped>\n",
       "    .dataframe tbody tr th:only-of-type {\n",
       "        vertical-align: middle;\n",
       "    }\n",
       "\n",
       "    .dataframe tbody tr th {\n",
       "        vertical-align: top;\n",
       "    }\n",
       "\n",
       "    .dataframe thead th {\n",
       "        text-align: right;\n",
       "    }\n",
       "</style>\n",
       "<table border=\"1\" class=\"dataframe\">\n",
       "  <thead>\n",
       "    <tr style=\"text-align: right;\">\n",
       "      <th></th>\n",
       "      <th>Series</th>\n",
       "      <th>Date</th>\n",
       "      <th>Value</th>\n",
       "    </tr>\n",
       "  </thead>\n",
       "  <tbody>\n",
       "    <tr>\n",
       "      <th>16643</th>\n",
       "      <td>UST_10Y</td>\n",
       "      <td>2025-10-17</td>\n",
       "      <td>4.02</td>\n",
       "    </tr>\n",
       "    <tr>\n",
       "      <th>16644</th>\n",
       "      <td>UST_10Y</td>\n",
       "      <td>2025-10-20</td>\n",
       "      <td>4.00</td>\n",
       "    </tr>\n",
       "    <tr>\n",
       "      <th>16645</th>\n",
       "      <td>UST_10Y</td>\n",
       "      <td>2025-10-21</td>\n",
       "      <td>3.98</td>\n",
       "    </tr>\n",
       "    <tr>\n",
       "      <th>16646</th>\n",
       "      <td>UST_10Y</td>\n",
       "      <td>2025-10-22</td>\n",
       "      <td>3.97</td>\n",
       "    </tr>\n",
       "    <tr>\n",
       "      <th>16647</th>\n",
       "      <td>UST_10Y</td>\n",
       "      <td>2025-10-23</td>\n",
       "      <td>4.01</td>\n",
       "    </tr>\n",
       "  </tbody>\n",
       "</table>\n",
       "</div>"
      ],
      "text/plain": [
       "        Series       Date  Value\n",
       "16643  UST_10Y 2025-10-17   4.02\n",
       "16644  UST_10Y 2025-10-20   4.00\n",
       "16645  UST_10Y 2025-10-21   3.98\n",
       "16646  UST_10Y 2025-10-22   3.97\n",
       "16647  UST_10Y 2025-10-23   4.01"
      ]
     },
     "execution_count": 1,
     "metadata": {},
     "output_type": "execute_result"
    }
   ],
   "source": [
    "import os, pandas as pd\n",
    "from dotenv import load_dotenv\n",
    "from fredapi import Fred\n",
    "\n",
    "load_dotenv()\n",
    "FRED_KEY = os.getenv(\"FRED_API_KEY\")\n",
    "fred = Fred(api_key=FRED_KEY)\n",
    "\n",
    "def fred_series(series_id, name=None):\n",
    "    s = fred.get_series(series_id)  # pandas Series indexed by date\n",
    "    df = s.to_frame(\"Value\").reset_index().rename(columns={\"index\":\"Date\"})\n",
    "    df[\"Series\"] = name or series_id\n",
    "    return df[[\"Series\",\"Date\",\"Value\"]].sort_values(\"Date\")\n",
    "\n",
    "# demos:\n",
    "fred_series(\"DGS10\", \"UST_10Y\").tail()      # 10Y Treasury Yield\n",
    "# fred_series(\"CPIAUCSL\", \"CPI_All_Items\").tail()\n",
    "# fred_series(\"UNRATE\", \"Unemployment\").tail()\n"
   ]
  },
  {
   "cell_type": "code",
   "execution_count": null,
   "id": "f3b0dfcb",
   "metadata": {},
   "outputs": [],
   "source": []
  }
 ],
 "metadata": {
  "kernelspec": {
   "display_name": "venv",
   "language": "python",
   "name": "python3"
  },
  "language_info": {
   "codemirror_mode": {
    "name": "ipython",
    "version": 3
   },
   "file_extension": ".py",
   "mimetype": "text/x-python",
   "name": "python",
   "nbconvert_exporter": "python",
   "pygments_lexer": "ipython3",
   "version": "3.9.6"
  }
 },
 "nbformat": 4,
 "nbformat_minor": 5
}
